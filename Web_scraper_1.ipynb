{
 "cells": [
  {
   "cell_type": "markdown",
   "id": "4b6e082d-c6fa-4286-aff3-6af6d8f8996f",
   "metadata": {},
   "source": [
    "#### Import basic libraries"
   ]
  },
  {
   "cell_type": "code",
   "execution_count": 1,
   "id": "770c1e46-7eb6-4b21-8212-12199e77af34",
   "metadata": {},
   "outputs": [],
   "source": [
    "from flask import Flask, request, jsonify, render_template\n",
    "from bs4 import BeautifulSoup as bs\n",
    "from urllib.request import urlopen as urReq"
   ]
  },
  {
   "cell_type": "markdown",
   "id": "d03c4fd7-e1e2-4d00-a27c-f3e49a0921fe",
   "metadata": {},
   "source": [
    "#### Getting the main website address"
   ]
  },
  {
   "cell_type": "code",
   "execution_count": 2,
   "id": "f3cc2223-1833-4ccd-a0b1-08b88ed8e138",
   "metadata": {},
   "outputs": [],
   "source": [
    "flipkart_url = \"https://www.flipkart.com/search?q=iphone%2011\""
   ]
  },
  {
   "cell_type": "markdown",
   "id": "3ae97fb4-2c41-4604-9a90-cff30c1d514f",
   "metadata": {},
   "source": [
    "#### Requesting the source of the site "
   ]
  },
  {
   "cell_type": "code",
   "execution_count": 3,
   "id": "ced381e8-3dab-4aeb-9c64-32f344614d77",
   "metadata": {},
   "outputs": [],
   "source": [
    "response_website = urReq(flipkart_url)"
   ]
  },
  {
   "cell_type": "markdown",
   "id": "90b688b5-3198-4f5a-89ad-094e93d68d27",
   "metadata": {},
   "source": [
    "#### Read the site which is nothing but source code of that site "
   ]
  },
  {
   "cell_type": "code",
   "execution_count": 4,
   "id": "8296191c-4145-40ec-affe-7a1b653e9f5b",
   "metadata": {},
   "outputs": [],
   "source": [
    "data = response_website.read()"
   ]
  },
  {
   "cell_type": "markdown",
   "id": "2b2e218a-9089-46d4-9326-988898ea6edb",
   "metadata": {},
   "source": [
    "#### Beautify it "
   ]
  },
  {
   "cell_type": "code",
   "execution_count": 5,
   "id": "3164d0eb-3654-4a31-9b2e-a5e75ada7a08",
   "metadata": {},
   "outputs": [],
   "source": [
    "beautify = bs(data, 'html.parser')"
   ]
  },
  {
   "cell_type": "code",
   "execution_count": 6,
   "id": "b7723153-538e-4e08-8540-1e7664b399b2",
   "metadata": {},
   "outputs": [],
   "source": [
    "bigbox = beautify.find_all(\"div\" , {\"class\":\"_1AtVbE col-12-12\" }) #This will give a list of all classes contains _1AtVbE col-12-12"
   ]
  },
  {
   "cell_type": "markdown",
   "id": "b1aa8d20-bfdc-43e9-b867-507c94043121",
   "metadata": {},
   "source": [
    "#### Lets try to fetch the reference link of 2nd product "
   ]
  },
  {
   "cell_type": "code",
   "execution_count": 8,
   "id": "30cec5c4-e995-49ed-84a1-56157bec4a15",
   "metadata": {},
   "outputs": [],
   "source": [
    "href_product2 = bigbox[4].div.div.div.a['href']  #The number [4] represent the 2nd product, since the same class with indices 0,1,2 were taken by other things in the site. "
   ]
  },
  {
   "cell_type": "markdown",
   "id": "6c081902-99bc-4307-bbb4-48c8a2623e39",
   "metadata": {},
   "source": [
    "#### So, the address of that 2nd product is :"
   ]
  },
  {
   "cell_type": "code",
   "execution_count": 9,
   "id": "fa0b8c6e-584b-457e-9f9b-c95ef9718a64",
   "metadata": {},
   "outputs": [
    {
     "data": {
      "text/plain": [
       "'https://www.flipkart.com/apple-iphone-11-white-64-gb/p/itmfc6a7091eb20b?pid=MOBFWQ6BVWVEH3XE&lid=LSTMOBFWQ6BVWVEH3XEMXQMLO&marketplace=FLIPKART&q=iphone+11&store=tyy%2F4io&srno=s_1_2&otracker=search&fm=organic&iid=b04432ef-d0a4-4d37-ae5d-138d75ec8738.MOBFWQ6BVWVEH3XE.SEARCH&ppt=None&ppn=None&ssid=ox50y59tr40000001673976234919&qH=f6cdfdaa9f3c23f3'"
      ]
     },
     "execution_count": 9,
     "metadata": {},
     "output_type": "execute_result"
    }
   ],
   "source": [
    "product_2 = \"https://www.flipkart.com\" + href_product2\n",
    "product_2"
   ]
  },
  {
   "cell_type": "markdown",
   "id": "10087b84-a39c-453d-ac16-a91778442f7b",
   "metadata": {},
   "source": [
    "#### Lets import requests "
   ]
  },
  {
   "cell_type": "code",
   "execution_count": 10,
   "id": "a08be677-9396-4876-b0af-44031e5b6a3b",
   "metadata": {},
   "outputs": [],
   "source": [
    "import requests\n",
    "product_2a = requests.get(product_2)"
   ]
  },
  {
   "cell_type": "code",
   "execution_count": 11,
   "id": "fd40758e-31f2-45b0-ba58-255f35d6339c",
   "metadata": {},
   "outputs": [],
   "source": [
    "product_2a.encoding= 'utf-8'"
   ]
  },
  {
   "cell_type": "markdown",
   "id": "8abbd164-5b56-41e5-b8a6-f7377f10f947",
   "metadata": {},
   "source": [
    "#### Beautify it again"
   ]
  },
  {
   "cell_type": "code",
   "execution_count": 12,
   "id": "91b847c9-40a9-4ab9-bf43-4b629a6a7fd8",
   "metadata": {},
   "outputs": [],
   "source": [
    "product_2a_soure = bs(product_2a.text, 'html.parser') #This is the final webpage source code of the 2nd product."
   ]
  },
  {
   "cell_type": "markdown",
   "id": "cc66513a-6253-4662-be04-01fb4186e8b0",
   "metadata": {},
   "source": [
    "#### Now, find what you want in the site - Ex: Rating, Comment, Heading, date &  Month, etc "
   ]
  },
  {
   "cell_type": "code",
   "execution_count": 13,
   "id": "8d38b7e4-01e1-4c38-aab1-70f483a7ae00",
   "metadata": {},
   "outputs": [
    {
     "data": {
      "text/plain": [
       "'5'"
      ]
     },
     "execution_count": 13,
     "metadata": {},
     "output_type": "execute_result"
    }
   ],
   "source": [
    "product_2_rating = product_2a_soure.find('div', {'class' : '_16PBlm'}).div.div.div.div.text\n",
    "product_2_rating"
   ]
  },
  {
   "cell_type": "code",
   "execution_count": 25,
   "id": "e9e98cc9-176d-42cd-bd88-3c26f3b4c223",
   "metadata": {},
   "outputs": [
    {
     "data": {
      "text/plain": [
       "'Really satisfied with the Product I received... It’s totally genuine and the packaging was also really good so if ur planning to buy just go for it.'"
      ]
     },
     "execution_count": 25,
     "metadata": {},
     "output_type": "execute_result"
    }
   ],
   "source": [
    "product_2_comment = product_2a_soure.find('div', {'class' : '_16PBlm'}).find_all('div', {'class' : \"\"})[1].text\n",
    "product_2_comment"
   ]
  },
  {
   "cell_type": "code",
   "execution_count": 15,
   "id": "b633e8b8-3c9e-4864-a0ec-a2268fc3cc1d",
   "metadata": {},
   "outputs": [
    {
     "data": {
      "text/plain": [
       "'Simply awesome'"
      ]
     },
     "execution_count": 15,
     "metadata": {},
     "output_type": "execute_result"
    }
   ],
   "source": [
    "product_2_heading = product_2a_soure.find('div', {'class' : '_16PBlm'}).find('p', {'class' : '_2-N8zT'}).text\n",
    "product_2_heading"
   ]
  },
  {
   "cell_type": "code",
   "execution_count": 22,
   "id": "2eb72c7b-b4c5-4ced-9f91-380e45df67e9",
   "metadata": {},
   "outputs": [
    {
     "data": {
      "text/plain": [
       "'Nov, 2020'"
      ]
     },
     "execution_count": 22,
     "metadata": {},
     "output_type": "execute_result"
    }
   ],
   "source": [
    "product_2_date = product_2a_soure.find('div', {'class' : '_16PBlm'}).find_all('p', {'class' : '_2sc7ZR'})[1].text\n",
    "product_2_date"
   ]
  },
  {
   "cell_type": "code",
   "execution_count": null,
   "id": "d778b806-b3f3-4397-a4fe-9667fd653318",
   "metadata": {},
   "outputs": [],
   "source": []
  }
 ],
 "metadata": {
  "kernelspec": {
   "display_name": "Python 3 (ipykernel)",
   "language": "python",
   "name": "python3"
  },
  "language_info": {
   "codemirror_mode": {
    "name": "ipython",
    "version": 3
   },
   "file_extension": ".py",
   "mimetype": "text/x-python",
   "name": "python",
   "nbconvert_exporter": "python",
   "pygments_lexer": "ipython3",
   "version": "3.9.13"
  }
 },
 "nbformat": 4,
 "nbformat_minor": 5
}
